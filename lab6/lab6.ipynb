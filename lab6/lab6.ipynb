{
 "cells": [
  {
   "cell_type": "code",
   "execution_count": 69,
   "metadata": {},
   "outputs": [],
   "source": [
    "!cat /data/Lab6_data/mixed_reads* > ./mixed_reads.fastq"
   ]
  },
  {
   "cell_type": "markdown",
   "metadata": {},
   "source": [
    "What will you use for the database?\n",
    "- /data/references/hg19/hg19 (the human reference genome)\n",
    "\n",
    "Input reads? \n",
    "- ./mixed_reads.fastq (cat'ed together mixed_reads1 and mixed_reads2)\n",
    "\n",
    "If you use the --un unaligned.fastq option, what will unaligned.fastq contain? \n",
    "- unaligned.fastq will contain all reads which don't map to the human genome i.e. reads which likely map to S. oneidensis genome instead"
   ]
  },
  {
   "cell_type": "code",
   "execution_count": 14,
   "metadata": {},
   "outputs": [
    {
     "name": "stdout",
     "output_type": "stream",
     "text": [
      "Warning: Output file '–p' was specified without -S.  This will not work in future Bowtie 2 versions.  Please use -S instead.\r\n",
      "Extra parameter(s) specified: \"4\", \"/data/Lab6_data/mixed_reads2.fastq\"\r\n",
      "Error: Encountered internal Bowtie 2 exception (#1)\r\n",
      "Command: /opt/anaconda3/bin/bowtie2-align-s --wrapper basic-0 --very-fast -x /data/references/hg19/ --passthrough -U /data/Lab6_data/mixed_reads1.fastq –p 4 /data/Lab6_data/mixed_reads2.fastq \r\n",
      "(ERR): bowtie2-align exited with value 1\r\n"
     ]
    }
   ],
   "source": [
    "# align reads to human genome to filter out human contaminants, the filtered reads will go to unaligned.fastq\n",
    "\n",
    "!bowtie2 –p 4 --very-fast --no-unal -x /data/references/hg19/ -U ./mixed_reads.fastq -S output.sam --un unaligned.fastq"
   ]
  },
  {
   "cell_type": "markdown",
   "metadata": {},
   "source": [
    "#### Output from aligning mixed_reads to human genome\n",
    "\n",
    "```\n",
    "2570882 reads; of these:\n",
    "  2570882 (100.00%) were unpaired; of these:\n",
    "    2060197 (80.14%) aligned 0 times\n",
    "    468483 (18.22%) aligned exactly 1 time\n",
    "    42202 (1.64%) aligned >1 times\n",
    "19.86% overall alignment rate\n",
    "```"
   ]
  },
  {
   "cell_type": "markdown",
   "metadata": {},
   "source": [
    "What percentage of your sequencing library came from contaminating human DNA?\n",
    "- 19.86% of the reads aligned to the human genome meaning at least this percentage of the DNA was contaminating human DNA"
   ]
  },
  {
   "cell_type": "code",
   "execution_count": null,
   "metadata": {},
   "outputs": [],
   "source": [
    "# align filtered reads to S. oneidensis genome\n",
    "\n",
    "!bowtie2 –p 4 --very-fast --no-unal -x /data/references/shewanella_oneidensis_mr-1/shewanella_oneidensis_mr-1 -U unaligned.fastq -S aligned.sam"
   ]
  },
  {
   "cell_type": "markdown",
   "metadata": {},
   "source": [
    "#### Output from aligning filtered reads to  S. oneidensis genome --very-fast\n",
    "\n",
    "```\n",
    "2060197 reads; of these:\n",
    "  2060197 (100.00%) were unpaired; of these:\n",
    "    733772 (35.62%) aligned 0 times\n",
    "    1238875 (60.13%) aligned exactly 1 time\n",
    "    87550 (4.25%) aligned >1 times\n",
    "64.38% overall alignment rate\n",
    "```"
   ]
  },
  {
   "cell_type": "markdown",
   "metadata": {},
   "source": [
    "#### Output from aligning filtered reads to  S. oneidensis genome --very-fast\n",
    "\n",
    "```\n",
    "2060197 reads; of these:\n",
    "  2060197 (100.00%) were unpaired; of these:\n",
    "    728613 (35.37%) aligned 0 times\n",
    "    1242169 (60.29%) aligned exactly 1 time\n",
    "    89415 (4.34%) aligned >1 times\n",
    "64.63% overall alignment rate\n",
    "```"
   ]
  },
  {
   "cell_type": "markdown",
   "metadata": {},
   "source": [
    "If you use the --un unaligned.fastq option, what will unaligned.fastq contain?\n",
    "- All reads which didn't map to either the human or S. oneidensis genome\n",
    "\n",
    "What percentage of your filtered library didn’t align to the reference genome?\n",
    "- 35.62% using --very-fast flag and 35.37% using --very-sensitive flag\n",
    "\n",
    "If you use --very-sensitive instead of --very-fast, does this percentage increase or decrease? \n",
    "- Yes, see above"
   ]
  },
  {
   "cell_type": "code",
   "execution_count": 70,
   "metadata": {},
   "outputs": [],
   "source": [
    "# Processing using samtools\n",
    "\n",
    "!samtools view -b aligned1.sam > aligned1.bam\n",
    "!samtools sort aligned1.bam > aligned1.sorted.bam\n",
    "!samtools index aligned1.sorted.bam\n",
    "!samtools depth -a aligned1.sorted.bam > pileup.tab"
   ]
  },
  {
   "cell_type": "code",
   "execution_count": 71,
   "metadata": {},
   "outputs": [
    {
     "name": "stdout",
     "output_type": "stream",
     "text": [
      "gzip: pileup.tab.gz: No such file or directory\r\n"
     ]
    }
   ],
   "source": [
    "import pandas as pd\n",
    "\n",
    "!gunzip pileup.tab.gz\n",
    "\n",
    "data = pd.read_csv('pileup.tab', sep='\\t', header=None)\n",
    "data.columns = ['Reference', 'position', 'depth']"
   ]
  },
  {
   "cell_type": "markdown",
   "metadata": {},
   "source": [
    "What is the min, max, and mean coverage across all positions?\n",
    "- See below"
   ]
  },
  {
   "cell_type": "code",
   "execution_count": 63,
   "metadata": {},
   "outputs": [
    {
     "name": "stdout",
     "output_type": "stream",
     "text": [
      "1\n",
      "457\n",
      "70.44318087922572\n"
     ]
    }
   ],
   "source": [
    "print(min(data.depth))\n",
    "print(max(data.depth))\n",
    "print(sum(data.depth) / len(data.depth))"
   ]
  },
  {
   "cell_type": "code",
   "execution_count": 67,
   "metadata": {},
   "outputs": [
    {
     "data": {
      "image/png": "[encoded data removed]",
      "text/plain": [
       "<Figure size 432x288 with 1 Axes>"
      ]
     },
     "metadata": {
      "needs_background": "light"
     },
     "output_type": "display_data"
    }
   ],
   "source": [
    "import matplotlib\n",
    "import matplotlib.pylab as plt\n",
    "%matplotlib inline  \n",
    "\n",
    "plt.scatter(data.position, data.depth)\n",
    "plt.ylabel('Depth of Coverage')\n",
    "plt.xlabel('Position in Genome')\n",
    "plt.show()"
   ]
  },
  {
   "cell_type": "code",
   "execution_count": 68,
   "metadata": {},
   "outputs": [
    {
     "data": {
      "text/plain": [
       "Text(0, 0.5, 'Count')"
      ]
     },
     "execution_count": 68,
     "metadata": {},
     "output_type": "execute_result"
    },
    {
     "data": {
      "image/png": "[encoded data removed]",
      "text/plain": [
       "<Figure size 432x288 with 1 Axes>"
      ]
     },
     "metadata": {
      "needs_background": "light"
     },
     "output_type": "display_data"
    }
   ],
   "source": [
    "matplotlib.pyplot.hist(data.depth)\n",
    "plt.xlabel('Depth of Coverage')\n",
    "plt.ylabel('Count')"
   ]
  },
  {
   "cell_type": "markdown",
   "metadata": {},
   "source": [
    "How many reads map to humans? \n",
    "- 2570882 - 2060197 = 510685\n",
    "\n",
    "How many map to S. oneidensis? \n",
    "- 2060197 - 728613 = 1331584\n",
    "\n",
    "Do the reads cover the S. oneidensis genome uniformly? \n",
    "- No. From the scatterplot we can see that certain positions in the genome have a lot more reads aligned to them than others."
   ]
  }
 ],
 "metadata": {
  "kernelspec": {
   "display_name": "Python 3",
   "language": "python",
   "name": "python3"
  },
  "language_info": {
   "codemirror_mode": {
    "name": "ipython",
    "version": 3
   },
   "file_extension": ".py",
   "mimetype": "text/x-python",
   "name": "python",
   "nbconvert_exporter": "python",
   "pygments_lexer": "ipython3",
   "version": "3.7.3"
  }
 },
 "nbformat": 4,
 "nbformat_minor": 2
}
