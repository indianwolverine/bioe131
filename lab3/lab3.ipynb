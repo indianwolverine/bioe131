{
 "cells": [
  {
   "cell_type": "code",
   "execution_count": 16,
   "metadata": {},
   "outputs": [],
   "source": [
    "f = open(\"./romeoandjuliet.txt\", \"r\")"
   ]
  },
  {
   "cell_type": "code",
   "execution_count": 17,
   "metadata": {},
   "outputs": [],
   "source": [
    "import re\n",
    "\n",
    "counts = {}\n",
    "\n",
    "for s in f.readlines():\n",
    "    s = re.sub(r'[^\\w\\s]','',s)\n",
    "    for word in str.split(s):\n",
    "        word = word.lower()\n",
    "        if not word in counts.keys():\n",
    "            counts[word] = 1\n",
    "        else:\n",
    "            counts[word] += 1"
   ]
  },
  {
   "cell_type": "code",
   "execution_count": null,
   "metadata": {},
   "outputs": [],
   "source": [
    "import matplotlib.pyplot as plt\n",
    "%matplotlib inline\n",
    "\n",
    "f, ax = plt.subplots(figsize=(500,250))\n",
    "\n",
    "plt.bar(range(len(counts)), counts.values(), align='center')\n",
    "plt.xticks(range(len(counts)), list(counts.keys()))\n",
    "\n",
    "plt.title(\"Word Frequencies in Romeo and Juliet\")\n",
    "plt.ylabel(\"Total Number of Occurrences\")\n",
    "plt.xlabel(\"Words\")\n",
    "\n",
    "plt.show()"
   ]
  },
  {
   "cell_type": "code",
   "execution_count": 18,
   "metadata": {},
   "outputs": [
    {
     "data": {
      "image/png": "[encoded data removed]",
      "text/plain": [
       "<Figure size 432x288 with 1 Axes>"
      ]
     },
     "metadata": {
      "needs_background": "light"
     },
     "output_type": "display_data"
    }
   ],
   "source": [
    "import operator\n",
    "\n",
    "sorted_counts = (sorted(counts.items(), key = operator.itemgetter(1)))[::-1]\n",
    "occurences = list(i[1] for i in sorted_counts)\n",
    "ranks = list(range(1,len(occurences) + 1))\n",
    "\n",
    "plt.title(\"Word Frequencies in Romeo and Juliet\")\n",
    "plt.ylabel(\"Total Number of Occurrences\")\n",
    "plt.xlabel(\"Ranks\")\n",
    "plt.loglog(\n",
    "    ranks,\n",
    "    occurences,\n",
    "    basex=10\n",
    ")\n",
    "plt.show()"
   ]
  },
  {
   "cell_type": "markdown",
   "metadata": {},
   "source": [
    "This graph shows that the frequency of words drops off on a log10 scale as we go down in rank, i.e. the most common words are *much* more common than the less common ones."
   ]
  },
  {
   "cell_type": "code",
   "execution_count": 19,
   "metadata": {},
   "outputs": [
    {
     "name": "stdout",
     "output_type": "stream",
     "text": [
      "and\n",
      "the\n",
      "i\n",
      "to\n",
      "a\n",
      "of\n",
      "my\n",
      "that\n",
      "is\n",
      "in\n"
     ]
    }
   ],
   "source": [
    "most_common = list(i[0] for i in sorted_counts[:10])\n",
    "for word in most_common:\n",
    "    print(word)"
   ]
  },
  {
   "cell_type": "markdown",
   "metadata": {},
   "source": [
    "These are the 10 most common words in Romeo and Juliet, which is to be expected since they are mostly articles/prepositions and some common words like I and my."
   ]
  },
  {
   "cell_type": "code",
   "execution_count": 20,
   "metadata": {},
   "outputs": [
    {
     "name": "stdout",
     "output_type": "stream",
     "text": [
      "sceneverona\n",
      "watchmen\n",
      "guards\n",
      "pages\n",
      "family\n",
      "personae\n",
      "dramatis\n",
      "shakespeare\n",
      "william\n",
      "tragedy\n"
     ]
    }
   ],
   "source": [
    "least_common = list(i[0] for i in sorted_counts[-10:])\n",
    "for word in least_common:\n",
    "    print(word)"
   ]
  },
  {
   "cell_type": "markdown",
   "metadata": {},
   "source": [
    "These are the 10 least common words in Romeo and Juliet, and happen to be more proper nouns and rarely seen words. Although the inclusion of 'family' in this list is surprising since Romeo and Juliet is about 2 rival families."
   ]
  }
 ],
 "metadata": {
  "kernelspec": {
   "display_name": "Python 3",
   "language": "python",
   "name": "python3"
  },
  "language_info": {
   "codemirror_mode": {
    "name": "ipython",
    "version": 3
   },
   "file_extension": ".py",
   "mimetype": "text/x-python",
   "name": "python",
   "nbconvert_exporter": "python",
   "pygments_lexer": "ipython3",
   "version": "3.7.3"
  }
 },
 "nbformat": 4,
 "nbformat_minor": 2
}
