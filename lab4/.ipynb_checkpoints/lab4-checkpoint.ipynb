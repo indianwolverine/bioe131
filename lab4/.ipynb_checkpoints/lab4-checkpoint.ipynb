{
 "cells": [
  {
   "cell_type": "markdown",
   "metadata": {},
   "source": [
    "# Schema Design and Planning\n",
    "\n",
    "*genes <-> enzymes <-> pathways*\n",
    "\n",
    "Our pathways are predefined: Glycolysis, Citric Acid Cycle, and Pentose Phosphate Pathway\n",
    "The pathways table will contain a unique ID for these pathways, their name, and a description\n",
    "\n",
    "Our enzymes will be predefined too. Given a pathway, we will find 4 enzymes in that pathway\n",
    "The enzymes table will contain 12 enzymes in total then, each with a unique id, a name, function, and enzyme commission number, along with a pathway ID which will allow us to link it to the pathways table.\n",
    "\n",
    "Since many genes encode an enzyme, we will search the databases to gather associated genes for an enzyme in the following organisms: Drosophila, E. Coli, and Humans. \n",
    "The genes table will contain at least 36 genes then, 1 per organism per enzyme, each with a name, description, organism, nucleotide sequence, chromosome, start, end, strand, and an associated enzyme field."
   ]
  },
  {
   "cell_type": "code",
   "execution_count": 73,
   "metadata": {},
   "outputs": [],
   "source": [
    "# First, let's create the pathways table\n",
    "\n",
    "import sqlite3\n",
    "conn = sqlite3.connect('genes.db')\n",
    "c = conn.cursor()\n",
    "\n",
    "c.execute(\"\"\" CREATE TABLE pathways (id INT PRIMARY KEY ASC, name TEXT, description TEXT); \"\"\")\n",
    "\n",
    "conn.commit()"
   ]
  },
  {
   "cell_type": "code",
   "execution_count": 74,
   "metadata": {},
   "outputs": [
    {
     "name": "stdout",
     "output_type": "stream",
     "text": [
      "(0, 'Glycolysis', 'Glycolysis (from glycose, an older term[1] for glucose + -lysis degradation) is the metabolic pathway that converts glucose C6H12O6, into pyruvate, CH3COCOO− + H+')\n",
      "(1, 'Citric Acid Cycle', 'The citric acid cycle (CAC) – also known as the TCA cycle (tricarboxylic acid cycle) or the Krebs cycle[1][2] – is a series of chemical reactions used by all aerobic organisms to release stored energy through the oxidation of acetyl-CoA derived from carbohydrates, fats, and proteins, into adenosine triphosphate (ATP) and carbon dioxide.')\n",
      "(2, 'Pentose Phosphate Pathway', 'The pentose phosphate pathway (also called the phosphogluconate pathway and the hexose monophosphate shunt) is a metabolic pathway parallel to glycolysis. It generates NADPH and pentoses (5-carbon sugars) as well as ribose 5-phosphate, the last one a precursor for the synthesis of nucleotides.')\n"
     ]
    }
   ],
   "source": [
    "c.execute(\"INSERT INTO pathways (id, name, description) VALUES (0, 'Glycolysis', 'Glycolysis (from glycose, an older term[1] for glucose + -lysis degradation) is the metabolic pathway that converts glucose C6H12O6, into pyruvate, CH3COCOO− + H+');\")\n",
    "c.execute(\"INSERT INTO pathways (id, name, description) VALUES (1, 'Citric Acid Cycle', 'The citric acid cycle (CAC) – also known as the TCA cycle (tricarboxylic acid cycle) or the Krebs cycle[1][2] – is a series of chemical reactions used by all aerobic organisms to release stored energy through the oxidation of acetyl-CoA derived from carbohydrates, fats, and proteins, into adenosine triphosphate (ATP) and carbon dioxide.');\")\n",
    "c.execute(\"INSERT INTO pathways (id, name, description) VALUES (2, 'Pentose Phosphate Pathway', 'The pentose phosphate pathway (also called the phosphogluconate pathway and the hexose monophosphate shunt) is a metabolic pathway parallel to glycolysis. It generates NADPH and pentoses (5-carbon sugars) as well as ribose 5-phosphate, the last one a precursor for the synthesis of nucleotides.');\")\n",
    "\n",
    "conn.commit()\n",
    "\n",
    "for i in c.execute(\"SELECT * FROM pathways\"):\n",
    "    print(i)"
   ]
  },
  {
   "cell_type": "markdown",
   "metadata": {},
   "source": [
    "#### The descriptions for each pathway were obtained from their respective wikipedia pages.\n",
    "\n",
    "Now we will obtain 4 enzymes which play an integral role in each pathway. (enzymes obtained from metabolic cycle wikipedia pages)\n",
    "\n",
    "Glycolysis:\n",
    "1. Hexokinase\n",
    "2. phosphofructokinase-1\n",
    "3. Enolase\n",
    "4. Pyruvate kinase\n",
    " \n",
    "Citric Acid Cycle: \n",
    "1. Citrate synthase\n",
    "2. Isocitrate dehydrogenase\n",
    "3. Fumarase \n",
    "4. Malate dehydrogenase\n",
    "\n",
    "Pentose Phosphote Pathway\n",
    "1. glucose 6-phosphate dehydrogenase\n",
    "2. 6-phosphogluconolactonase\n",
    "3. Ribose-5-phosphate isomerase\n",
    "4. transketolase"
   ]
  },
  {
   "cell_type": "code",
   "execution_count": 76,
   "metadata": {},
   "outputs": [],
   "source": [
    "# Now let's create our enzymes table\n",
    "\n",
    "c.execute(\"\"\" CREATE TABLE enzymes (id INT PRIMARY KEY ASC, name TEXT, function TEXT, ec TEXT, pathway_id INT); \"\"\")\n",
    "\n",
    "c.execute(\"INSERT INTO enzymes (id, name, function, ec, pathway_id) VALUES (0, 'Hexokinase', 'A hexokinase is an enzyme that phosphorylates hexoses (six-carbon sugars), forming hexose phosphate.', '2.7.1.1', 0);\")\n",
    "c.execute(\"INSERT INTO enzymes (id, name, function, ec, pathway_id) VALUES (1, 'phosphofructokinase-1', 'Phosphofructokinase-1 (PFK-1) is one of the most important regulatory enzymes (EC 2.7.1.11) of glycolysis. It is an allosteric enzyme made of 4 subunits and controlled by many activators and inhibitors. PFK-1 catalyzes the important committed step of glycolysis, the conversion of fructose 6-phosphate and ATP to fructose 1,6-bisphosphate and ADP. ', '2.7.1.11', 0);\")\n",
    "c.execute(\"INSERT INTO enzymes (id, name, function, ec, pathway_id) VALUES (2, 'Enolase', 'Enolase, also known as phosphopyruvate hydratase, is a metalloenzyme responsible for the catalysis of the conversion of 2-phosphoglycerate (2-PG) to phosphoenolpyruvate (PEP), the ninth and penultimate step of glycolysis', '4.2.1.11', 0);\")\n",
    "c.execute(\"INSERT INTO enzymes (id, name, function, ec, pathway_id) VALUES (3, 'Pyruvate kinase', 'Pyruvate kinase is the enzyme involved in the last step of glycolysis. It catalyzes the transfer of a phosphate group from phosphoenolpyruvate (PEP) to adenosine diphosphate (ADP), yielding one molecule of pyruvate and one molecule of ATP.', '2.7.1.40', 0);\")\n",
    "\n",
    "c.execute(\"INSERT INTO enzymes (id, name, function, ec, pathway_id) VALUES (4, 'Citrate synthase', 'The enzyme citrate synthase E.C. 2.3.3.1 (previously 4.1.3.7)] exists in nearly all living cells and stands as a pace-making enzyme in the first step of the citric acid cycle (or Krebs cycle).', '2.3.3.1', 1);\")\n",
    "c.execute(\"INSERT INTO enzymes (id, name, function, ec, pathway_id) VALUES (5, 'Isocitrate dehydrogenase', 'Isocitrate dehydrogenase (IDH) (EC 1.1.1.42) and (EC 1.1.1.41) is an enzyme that catalyzes the oxidative decarboxylation of isocitrate, producing alpha-ketoglutarate (α-ketoglutarate) and CO2', '1.1.1.42', 1);\")\n",
    "c.execute(\"INSERT INTO enzymes (id, name, function, ec, pathway_id) VALUES (6, 'Fumarase', 'Fumarase (or fumarate hydratase) is an enzyme that catalyzes the reversible hydration/dehydration of fumarate to malate.', '4.2.1.2', 1);\")\n",
    "c.execute(\"INSERT INTO enzymes (id, name, function, ec, pathway_id) VALUES (7, 'Malate dehydrogenase', 'Malate dehydrogenase (EC 1.1.1.37) (MDH) is an enzyme that reversibly catalyzes the oxidation of malate to oxaloacetate using the reduction of NAD+ to NADH.', '1.1.1.37', 1);\")\n",
    "\n",
    "c.execute(\"INSERT INTO enzymes (id, name, function, ec, pathway_id) VALUES (8, 'glucose 6-phosphate dehydrogenase', 'This enzyme participates in the pentose phosphate pathway (see image), a metabolic pathway that supplies reducing energy to cells (such as erythrocytes) by maintaining the level of the co-enzyme nicotinamide adenine dinucleotide phosphate (NADPH).', '1.1.1.49', 2);\")\n",
    "c.execute(\"INSERT INTO enzymes (id, name, function, ec, pathway_id) VALUES (9, '6-phosphogluconolactonase', '6-Phosphogluconolactonase (6PGL, PGLS) is a cytosolic enzyme found in all organisms that catalyzes the hydrolysis of 6-phosphogluconolactone to 6-phosphogluconic acid in the oxidative phase of the pentose phosphate pathway.', '3.1.1.31', 2);\")\n",
    "c.execute(\"INSERT INTO enzymes (id, name, function, ec, pathway_id) VALUES (10, 'Ribose-5-phosphate isomerase', 'Ribose-5-phosphate isomerase (Rpi) encoded by the RPIA gene is an enzyme that catalyzes the conversion between ribose-5-phosphate (R5P) and ribulose-5-phosphate (Ru5P).', '5.3.1.6', 2);\")\n",
    "c.execute(\"INSERT INTO enzymes (id, name, function, ec, pathway_id) VALUES (11, 'transketolase', 'Transketolase encoded by the TKT gene is an enzyme of both the pentose phosphate pathway in all organisms and the Calvin cycle of photosynthesis.', '2.2.1.1', 2);\")\n",
    "\n",
    "conn.commit()"
   ]
  },
  {
   "cell_type": "code",
   "execution_count": 79,
   "metadata": {},
   "outputs": [
    {
     "name": "stdout",
     "output_type": "stream",
     "text": [
      "(0, 'Hexokinase', 'A hexokinase is an enzyme that phosphorylates hexoses (six-carbon sugars), forming hexose phosphate.', '2.7.1.1', 0)\n",
      "(1, 'phosphofructokinase-1', 'Phosphofructokinase-1 (PFK-1) is one of the most important regulatory enzymes (EC 2.7.1.11) of glycolysis. It is an allosteric enzyme made of 4 subunits and controlled by many activators and inhibitors. PFK-1 catalyzes the important committed step of glycolysis, the conversion of fructose 6-phosphate and ATP to fructose 1,6-bisphosphate and ADP. ', '2.7.1.11', 0)\n",
      "(2, 'Enolase', 'Enolase, also known as phosphopyruvate hydratase, is a metalloenzyme responsible for the catalysis of the conversion of 2-phosphoglycerate (2-PG) to phosphoenolpyruvate (PEP), the ninth and penultimate step of glycolysis', '4.2.1.11', 0)\n",
      "(3, 'Pyruvate kinase', 'Pyruvate kinase is the enzyme involved in the last step of glycolysis. It catalyzes the transfer of a phosphate group from phosphoenolpyruvate (PEP) to adenosine diphosphate (ADP), yielding one molecule of pyruvate and one molecule of ATP.', '2.7.1.40', 0)\n",
      "(4, 'Citrate synthase', 'The enzyme citrate synthase E.C. 2.3.3.1 (previously 4.1.3.7)] exists in nearly all living cells and stands as a pace-making enzyme in the first step of the citric acid cycle (or Krebs cycle).', '2.3.3.1', 1)\n",
      "(5, 'Isocitrate dehydrogenase', 'Isocitrate dehydrogenase (IDH) (EC 1.1.1.42) and (EC 1.1.1.41) is an enzyme that catalyzes the oxidative decarboxylation of isocitrate, producing alpha-ketoglutarate (α-ketoglutarate) and CO2', '1.1.1.42', 1)\n",
      "(6, 'Fumarase', 'Fumarase (or fumarate hydratase) is an enzyme that catalyzes the reversible hydration/dehydration of fumarate to malate.', '4.2.1.2', 1)\n",
      "(7, 'Malate dehydrogenase', 'Malate dehydrogenase (EC 1.1.1.37) (MDH) is an enzyme that reversibly catalyzes the oxidation of malate to oxaloacetate using the reduction of NAD+ to NADH.', '1.1.1.37', 1)\n",
      "(8, 'glucose 6-phosphate dehydrogenase', 'This enzyme participates in the pentose phosphate pathway (see image), a metabolic pathway that supplies reducing energy to cells (such as erythrocytes) by maintaining the level of the co-enzyme nicotinamide adenine dinucleotide phosphate (NADPH).', '1.1.1.49', 2)\n",
      "(9, '6-phosphogluconolactonase', '6-Phosphogluconolactonase (6PGL, PGLS) is a cytosolic enzyme found in all organisms that catalyzes the hydrolysis of 6-phosphogluconolactone to 6-phosphogluconic acid in the oxidative phase of the pentose phosphate pathway.', '3.1.1.31', 2)\n",
      "(10, 'Ribose-5-phosphate isomerase', 'Ribose-5-phosphate isomerase (Rpi) encoded by the RPIA gene is an enzyme that catalyzes the conversion between ribose-5-phosphate (R5P) and ribulose-5-phosphate (Ru5P).', '5.3.1.6', 2)\n",
      "(11, 'transketolase', 'Transketolase encoded by the TKT gene is an enzyme of both the pentose phosphate pathway in all organisms and the Calvin cycle of photosynthesis.', '2.2.1.1', 2)\n"
     ]
    }
   ],
   "source": [
    "for i in c.execute(\"SELECT * FROM enzymes\"):\n",
    "    print(i)"
   ]
  },
  {
   "cell_type": "code",
   "execution_count": 239,
   "metadata": {},
   "outputs": [],
   "source": [
    "# Let's create the gene table\n",
    "c.execute(\"\"\" CREATE TABLE genes (name TEXT, description TEXT, organism TEXT, enzyme TEXT, chromosome TEXT, start INT, end INT); \"\"\")\n",
    "conn.commit()"
   ]
  },
  {
   "cell_type": "code",
   "execution_count": 240,
   "metadata": {},
   "outputs": [],
   "source": [
    "from Bio import Entrez, SeqIO\n",
    "\n",
    "Entrez.email = 'aditya.srivastava@berkeley.edu'\n",
    "Entrez.api_key = '5b93a1656a48cac6080f0d911dc68b408208'\n",
    "\n",
    "def get_gene(organism, enzyme):\n",
    "    handle = Entrez.esearch(db='gene', term=str(organism + '[ORGN] AND ' + enzyme), sort='relevance', idtype='acc')\n",
    "    for i in Entrez.read(handle)['IdList'][:1]:\n",
    "        with Entrez.efetch(db='gene', id=i, rettype='gb', retmode='text') as id_handle:\n",
    "            data = id_handle.read()\n",
    "            data = data.split('\\n')\n",
    "            start = '0'\n",
    "            end = '0'\n",
    "            try:\n",
    "                start = (data[6].split('(')[1].split(')')[0].split('..')[0])\n",
    "                end = (data[6].split('(')[1].split(')')[0].split('..')[1])\n",
    "            except Exception as e:\n",
    "                print(e)\n",
    "            \n",
    "            sql = \"INSERT INTO genes (name, description, organism, enzyme, chromosome, start, end) VALUES (\" + \"'\" + data[2] + \"'\" + \",\" + \"'\" + data[2] + \"'\" + \",\" + \"'\" + organism + \"'\" + \",\" + \"'\" + enzyme + \"'\" + \",\" + \"'\" + data[5] + \"'\" + \",\" + \"'\" + start + \"'\" + \",\" + \"'\" + end + \"'\" + \");\"\n",
    "            c.execute(sql)"
   ]
  },
  {
   "cell_type": "code",
   "execution_count": 241,
   "metadata": {},
   "outputs": [
    {
     "name": "stdout",
     "output_type": "stream",
     "text": [
      "['', '1. HK1', 'Official Symbol: HK1 and Name: hexokinase 1 [Homo sapiens (human)]', 'Other Aliases: HK-ta, HK1-tb, HK1-tc, HKD, HKI, HMSNR, HXK1, NEDVIBA, RP79, hexokinase, HK1', 'Other Designations: hexokinase-1; brain form hexokinase; glycolytic enzyme; hexokinase IR; hexokinase type I; hexokinase-A', 'Chromosome: 10; Location: 10q22.1', 'Annotation: Chromosome 10 NC_000010.11 (69269991..69401882)', 'MIM: 142600', 'ID: 3098', '', '']\n",
      "['', '1. Hex-A', 'Official Symbol: Hex-A and Name: Hexokinase A [Drosophila melanogaster (fruit fly)]', 'Other Aliases: Dmel_CG3001, B, CG3001, DM1, Dmel\\\\CG3001, HEX, HEX-A, HK, HK-A, Hex:B, HexA, hexokinase, Hex-A', 'Other Designations: hexokinase A; CG3001-PA; CG3001-PB; CG3001-PC; Hex-A-PA; Hex-A-PB; Hex-A-PC; hexokinase; hexokinase-A; muscle-specific hexokinase', 'Chromosome: X; Location: 1-28 cM', 'Annotation: Chromosome X NC_004354.4 (9585675..9589813)', 'ID: 45875', '', '']\n",
      "list index out of range\n",
      "['', '1. mak', 'manno(fructo)kinase [Escherichia coli str. K-12 substr. MG1655]', 'Other Aliases: b0394, ECK0389, yajF', 'Other Designations: manno(fructo)kinase', 'Annotation:  NC_000913.3 (410144..411052)', 'ID: 949086', '', '']\n"
     ]
    }
   ],
   "source": [
    "get_gene('homo sapiens', 'hexokinase')\n",
    "get_gene('drosophila', 'hexokinase')\n",
    "get_gene('escherichia coli', 'hexokinase')\n",
    "\n",
    "get_gene('homo sapiens', 'phosphofructokinase-1')\n",
    "get_gene('drosophila', 'phosphofructokinase-1')\n",
    "get_gene('escherichia coli', 'phosphofructokinase-1')\n",
    "\n",
    "get_gene('homo sapiens', 'Enolase')\n",
    "get_gene('drosophila', 'Enolase')\n",
    "get_gene('escherichia coli', 'Enolase')\n",
    "\n",
    "get_gene('homo sapiens', 'Pyruvate kinase')\n",
    "get_gene('drosophila', 'Pyruvate kinase')\n",
    "get_gene('escherichia coli', 'Pyruvate kinase')\n",
    "\n",
    "get_gene('homo sapiens', 'Citrate synthase')\n",
    "get_gene('drosophila', 'Citrate synthase')\n",
    "get_gene('escherichia coli', 'Citrate synthase')\n",
    "\n",
    "get_gene('homo sapiens', 'Isocitrate dehydrogenase')\n",
    "get_gene('drosophila', 'Isocitrate dehydrogenase')\n",
    "get_gene('escherichia coli', 'Isocitrate dehydrogenase')\n",
    "\n",
    "get_gene('homo sapiens', 'Fumarase')\n",
    "get_gene('drosophila', 'Fumarase')\n",
    "get_gene('escherichia coli', 'Fumarase')\n",
    "\n",
    "get_gene('homo sapiens', 'Malate dehydrogenase')\n",
    "get_gene('drosophila', 'Malate dehydrogenase')\n",
    "get_gene('escherichia coli', 'Malate dehydrogenase')\n",
    "\n",
    "get_gene('homo sapiens', 'glucose 6-phosphate dehydrogenase')\n",
    "get_gene('drosophila', 'glucose 6-phosphate dehydrogenase')\n",
    "get_gene('escherichia coli', 'glucose 6-phosphate dehydrogenase')\n",
    "\n",
    "get_gene('homo sapiens', '6-phosphogluconolactonase')\n",
    "get_gene('drosophila', '6-phosphogluconolactonase')\n",
    "get_gene('escherichia coli', '6-phosphogluconolactonase')\n",
    "\n",
    "get_gene('homo sapiens', 'Ribose-5-phosphate isomerase')\n",
    "get_gene('drosophila', 'Ribose-5-phosphate isomerase')\n",
    "get_gene('escherichia coli', 'Ribose-5-phosphate isomerase')\n",
    "\n",
    "get_gene('homo sapiens', 'transketolase')\n",
    "get_gene('drosophila', 'transketolase')\n",
    "get_gene('escherichia coli', 'transketolase')"
   ]
  },
  {
   "cell_type": "code",
   "execution_count": 254,
   "metadata": {},
   "outputs": [
    {
     "name": "stdout",
     "output_type": "stream",
     "text": [
      "('Official Symbol: HK1 and Name: hexokinase 1 [Homo sapiens (human)]', 'Official Symbol: HK1 and Name: hexokinase 1 [Homo sapiens (human)]', 'homo sapiens', 'hexokinase', 'Chromosome: 10; Location: 10q22.1', 69269991, 69401882)\n",
      "('Official Symbol: Hex-A and Name: Hexokinase A [Drosophila melanogaster (fruit fly)]', 'Official Symbol: Hex-A and Name: Hexokinase A [Drosophila melanogaster (fruit fly)]', 'drosophila', 'hexokinase', 'Chromosome: X; Location: 1-28 cM', 9585675, 9589813)\n",
      "('manno(fructo)kinase [Escherichia coli str. K-12 substr. MG1655]', 'manno(fructo)kinase [Escherichia coli str. K-12 substr. MG1655]', 'escherichia coli', 'hexokinase', 'Annotation:  NC_000913.3 (410144..411052)', 0, 0)\n",
      "('Official Symbol: PFKM and Name: phosphofructokinase, muscle [Homo sapiens (human)]', 'Official Symbol: PFKM and Name: phosphofructokinase, muscle [Homo sapiens (human)]', 'homo sapiens', 'phosphofructokinase-1', 'Chromosome: 12; Location: 12q13.11', 48105253, 48146404)\n",
      "('Official Symbol: Pfk and Name: Phosphofructokinase [Drosophila melanogaster (fruit fly)]', 'Official Symbol: Pfk and Name: Phosphofructokinase [Drosophila melanogaster (fruit fly)]', 'drosophila', 'phosphofructokinase-1', 'Chromosome: 2R; Location: 2-62 cM', 10109740, 10117457)\n",
      "('6-phosphofructokinase-1 monomer, subunit of 6-phosphofructokinase I [Escherichia coli BL21(DE3)]', '6-phosphofructokinase-1 monomer, subunit of 6-phosphofructokinase I [Escherichia coli BL21(DE3)]', 'escherichia coli', 'phosphofructokinase-1', 'This record was discontinued.', 0, 0)\n",
      "('Official Symbol: ENO1 and Name: enolase 1 [Homo sapiens (human)]', 'Official Symbol: ENO1 and Name: enolase 1 [Homo sapiens (human)]', 'homo sapiens', 'Enolase', 'Chromosome: 1; Location: 1p36.23', 8861000, '8878686, complement')\n",
      "('Enolase [Drosophila virilis]', 'Enolase [Drosophila virilis]', 'drosophila', 'Enolase', 'ID: 6879467', 0, 0)\n",
      "('Enolase [Escherichia coli]', 'Enolase [Escherichia coli]', 'escherichia coli', 'Enolase', 'Genomic context: Plasmid pC59-153', 57883, 58233)\n",
      "('Official Symbol: PKM and Name: pyruvate kinase M1/2 [Homo sapiens (human)]', 'Official Symbol: PKM and Name: pyruvate kinase M1/2 [Homo sapiens (human)]', 'homo sapiens', 'Pyruvate kinase', 'Chromosome: 15; Location: 15q23', 72199029, '72231624, complement')\n",
      "('pyruvate kinase [Drosophila hydei]', 'pyruvate kinase [Drosophila hydei]', 'drosophila', 'Pyruvate kinase', 'ID: 111603597', 0, 0)\n",
      "('pyruvate kinase I [Escherichia coli str. K-12 substr. MG1655]', 'pyruvate kinase I [Escherichia coli str. K-12 substr. MG1655]', 'escherichia coli', 'Pyruvate kinase', 'Annotation:  NC_000913.3 (1755698..1757110)', 0, 0)\n",
      "('Official Symbol: CS and Name: citrate synthase [Homo sapiens (human)]', 'Official Symbol: CS and Name: citrate synthase [Homo sapiens (human)]', 'homo sapiens', 'Citrate synthase', 'Annotation: Chromosome 12 NC_000012.12 (56271699..56300330, complement)', 0, 0)\n",
      "('probable citrate synthase, mitochondrial [Drosophila novamexicana]', 'probable citrate synthase, mitochondrial [Drosophila novamexicana]', 'drosophila', 'Citrate synthase', 'ID: 115766475', 0, 0)\n",
      "('citrate synthase [Escherichia coli str. K-12 substr. MG1655]', 'citrate synthase [Escherichia coli str. K-12 substr. MG1655]', 'escherichia coli', 'Citrate synthase', 'Annotation:  NC_000913.3 (753185..754468, complement)', 0, 0)\n",
      "('Official Symbol: IDH1 and Name: isocitrate dehydrogenase (NADP(+)) 1 [Homo sapiens (human)]', 'Official Symbol: IDH1 and Name: isocitrate dehydrogenase (NADP(+)) 1 [Homo sapiens (human)]', 'homo sapiens', 'Isocitrate dehydrogenase', 'Chromosome: 2; Location: 2q34', 208236227, '208255143, complement')\n",
      "('Official Symbol: Idh and Name: Isocitrate dehydrogenase [Drosophila melanogaster (fruit fly)]', 'Official Symbol: Idh and Name: Isocitrate dehydrogenase [Drosophila melanogaster (fruit fly)]', 'drosophila', 'Isocitrate dehydrogenase', 'Chromosome: 3L; Location: 3-24 cM', 8356404, '8360906, complement')\n",
      "('isocitrate dehydrogenase [Escherichia coli str. K-12 substr. MG1655]', 'isocitrate dehydrogenase [Escherichia coli str. K-12 substr. MG1655]', 'escherichia coli', 'Isocitrate dehydrogenase', 'Annotation:  NC_000913.3 (1195123..1196373)', 0, 0)\n",
      "('Official Symbol: FH and Name: fumarate hydratase [Homo sapiens (human)]', 'Official Symbol: FH and Name: fumarate hydratase [Homo sapiens (human)]', 'homo sapiens', 'Fumarase', 'Chromosome: 1; Location: 1q43', 241497557, '241519785, complement')\n",
      "('Official Symbol: Fum1 and Name: Fumarase 1 [Drosophila melanogaster (fruit fly)]', 'Official Symbol: Fum1 and Name: Fumarase 1 [Drosophila melanogaster (fruit fly)]', 'drosophila', 'Fumarase', 'Chromosome: X; Location: 1-18 cM', 6678424, 6681845)\n",
      "('fumarase C [Escherichia coli str. K-12 substr. MG1655]', 'fumarase C [Escherichia coli str. K-12 substr. MG1655]', 'escherichia coli', 'Fumarase', 'Annotation:  NC_000913.3 (1685185..1686588, complement)', 0, 0)\n",
      "('Official Symbol: MDH2 and Name: malate dehydrogenase 2 [Homo sapiens (human)]', 'Official Symbol: MDH2 and Name: malate dehydrogenase 2 [Homo sapiens (human)]', 'homo sapiens', 'Malate dehydrogenase', 'Chromosome: 7; Location: 7q11.23', 76048106, 76067508)\n",
      "('malate dehydrogenase, mitochondrial [Drosophila navojoa]', 'malate dehydrogenase, mitochondrial [Drosophila navojoa]', 'drosophila', 'Malate dehydrogenase', 'Chromosome: 5', 0, 0)\n",
      "('malate dehydrogenase [Escherichia coli str. K-12 substr. MG1655]', 'malate dehydrogenase [Escherichia coli str. K-12 substr. MG1655]', 'escherichia coli', 'Malate dehydrogenase', 'Annotation:  NC_000913.3 (3383330..3384268, complement)', 0, 0)\n",
      "('Official Symbol: G6PD and Name: glucose-6-phosphate dehydrogenase [Homo sapiens (human)]', 'Official Symbol: G6PD and Name: glucose-6-phosphate dehydrogenase [Homo sapiens (human)]', 'homo sapiens', 'glucose 6-phosphate dehydrogenase', 'Chromosome: X; Location: Xq28', 154531390, '154547569, complement')\n",
      "('Official Symbol: Zw and Name: Zwischenferment [Drosophila melanogaster (fruit fly)]', 'Official Symbol: Zw and Name: Zwischenferment [Drosophila melanogaster (fruit fly)]', 'drosophila', 'glucose 6-phosphate dehydrogenase', 'Chromosome: X; Location: 1-63 cM', 19667252, 19672353)\n",
      "('NADP(+)-dependent glucose-6-phosphate dehydrogenase [Escherichia coli str. K-12 substr. MG1655]', 'NADP(+)-dependent glucose-6-phosphate dehydrogenase [Escherichia coli str. K-12 substr. MG1655]', 'escherichia coli', 'glucose 6-phosphate dehydrogenase', 'Annotation:  NC_000913.3 (1934839..1936314, complement)', 0, 0)\n",
      "('Official Symbol: H6PD and Name: hexose-6-phosphate dehydrogenase/glucose 1-dehydrogenase [Homo sapiens (human)]', 'Official Symbol: H6PD and Name: hexose-6-phosphate dehydrogenase/glucose 1-dehydrogenase [Homo sapiens (human)]', 'homo sapiens', '6-phosphogluconolactonase', 'Chromosome: 1; Location: 1p36.22', 9234767, 9271337)\n",
      "('probable 6-phosphogluconolactonase [Drosophila navojoa]', 'probable 6-phosphogluconolactonase [Drosophila navojoa]', 'drosophila', '6-phosphogluconolactonase', 'Chromosome: Un', 0, 0)\n",
      "('6-phosphogluconolactonase [Escherichia coli str. K-12 substr. MG1655]', '6-phosphogluconolactonase [Escherichia coli str. K-12 substr. MG1655]', 'escherichia coli', '6-phosphogluconolactonase', 'Annotation:  NC_000913.3 (798586..799581)', 0, 0)\n",
      "('Official Symbol: RPIA and Name: ribose 5-phosphate isomerase A [Homo sapiens (human)]', 'Official Symbol: RPIA and Name: ribose 5-phosphate isomerase A [Homo sapiens (human)]', 'homo sapiens', 'Ribose-5-phosphate isomerase', 'Chromosome: 2; Location: 2p11.2', 88691673, 88750929)\n",
      "('ribose-5-phosphate isomerase [Drosophila novamexicana]', 'ribose-5-phosphate isomerase [Drosophila novamexicana]', 'drosophila', 'Ribose-5-phosphate isomerase', 'ID: 115766576', 0, 0)\n",
      "('allose-6-phosphate isomerase/ribose-5-phosphate isomerase B [Escherichia coli str. K-12 substr. MG1655]', 'allose-6-phosphate isomerase/ribose-5-phosphate isomerase B [Escherichia coli str. K-12 substr. MG1655]', 'escherichia coli', 'Ribose-5-phosphate isomerase', 'Annotation:  NC_000913.3 (4313350..4313799)', 0, 0)\n",
      "('Official Symbol: TKTL1 and Name: transketolase like 1 [Homo sapiens (human)]', 'Official Symbol: TKTL1 and Name: transketolase like 1 [Homo sapiens (human)]', 'homo sapiens', 'transketolase', 'Chromosome: X; Location: Xq28', 154295795, 154330350)\n",
      "('transketolase-like protein 2 [Drosophila navojoa]', 'transketolase-like protein 2 [Drosophila navojoa]', 'drosophila', 'transketolase', 'Chromosome: 2', 0, 0)\n",
      "('transketolase 1 [Escherichia coli str. K-12 substr. MG1655]', 'transketolase 1 [Escherichia coli str. K-12 substr. MG1655]', 'escherichia coli', 'transketolase', 'Annotation:  NC_000913.3 (3079644..3081635, complement)', 0, 0)\n"
     ]
    }
   ],
   "source": [
    "for i in c.execute(\"SELECT * FROM genes\"):\n",
    "    print(i)"
   ]
  },
  {
   "cell_type": "markdown",
   "metadata": {},
   "source": [
    "#### Now we can join the genes table with the enzymes table and the enzymes table with the pathways table to understand the associations between all of them."
   ]
  },
  {
   "cell_type": "code",
   "execution_count": null,
   "metadata": {},
   "outputs": [],
   "source": []
  }
 ],
 "metadata": {
  "kernelspec": {
   "display_name": "Python 3",
   "language": "python",
   "name": "python3"
  },
  "language_info": {
   "codemirror_mode": {
    "name": "ipython",
    "version": 3
   },
   "file_extension": ".py",
   "mimetype": "text/x-python",
   "name": "python",
   "nbconvert_exporter": "python",
   "pygments_lexer": "ipython3",
   "version": "3.7.3"
  }
 },
 "nbformat": 4,
 "nbformat_minor": 2
}
