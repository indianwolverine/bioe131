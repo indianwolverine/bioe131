{
 "cells": [
  {
   "cell_type": "markdown",
   "metadata": {},
   "source": [
    "### Preliminary Questions\n",
    "\n",
    "*Will the AND-1 riboswitch cleave itself when both of its OBS are bound?*\n",
    "\n",
    "- Yes, an AND gate will output TRUE when both inputs are TRUE. Therefore an AND-1 riboswitch will cleave itself (output TRUE) when both OBS are bound (both inputs TRUE).\n",
    "\n",
    "*Will the OR-1 riboswitch cleave itself when neither of its OBS are bound?* \n",
    "\n",
    "- No, this corresponds to an input of both FALSE and an OR gate in this case outputs FALSE.\n",
    "\n",
    "*What behavior do we expect from the YES-1 riboswitch?* \n",
    "\n",
    "- A YES-1 riboswitch should cleave itself when an OBS is bound and not cleave itself when no OBS is bound."
   ]
  },
  {
   "cell_type": "markdown",
   "metadata": {},
   "source": [
    "### Sequence Descriptions\n",
    "\n",
    "*YES-1 sequence*\n",
    "\n",
    "- GGGCG ACCCU GAUGA GCUUG AGUUU AGCUC GUCAC UGUCC AGGUU CAAUC AGGCG AAACG GUGAA AGCCG UAGGU UGCCC\n",
    "- GGGCGACCCUGAUGAGCUUGAGUUUAGCUCGUCACUGUCCAGGUUCAAUCAGGCGAAACGGUGAAAGCCGUAGGUUGCCC\n",
    "\n",
    "    Name  | Start OBS-1 | End OBS-1 | Start Red-1 | End Red-1 | Start Red-2 | End Red-2\n",
    "    \n",
    "    YES-1 |     26      |     47    |     16      |    20     |     49      |    54\n",
    "\n",
    "*NOT-1 sequence*\n",
    "\n",
    "- GGCAG GAUCA UACAG CUGAU GAGUC CCAAA UAGGA CGAAA CGCGA CACAC ACCAC UAAAC CGUGC AGUGU UUUCG GUCCU GUAUU CCACU GC  \n",
    "- GGCAGGAUCAUACAGCUGAUGAGUCCCAAAUAGGACGAAACGCGACACACACCACUAAACCGUGCAGUGUUUUGCGUCCUGUAUUCCACUGC\n",
    "\n",
    "    Name  | Start OBS-1 | End OBS-1 | Start Red-1 | End Red-1 | Start Red-2 | End Red-2\n",
    "    \n",
    "    NOT-1 |     44      |     66    |      40     |     43    |     74      |    77\n",
    "\n",
    "*AND-1 sequence*\n",
    "\n",
    "- GGGCG ACCCU GAUGA GCUUG GUUUA GUAUU UACAG CUCCA UACAU GAGGU GUUAU CCCUA UGCAA GUUCG AUCAG GCGAA ACGGU GAAAG CCGUA GGUUG CCCAG AGACA AU \n",
    "- GGGCGACCCUGAUGAGCUUGGUUUAGUAUUUACAGCUCCAUACAUGAGGUGUUAUCCCUAUGCAAGUUCGAUCAGGCGAAACGGUGAAAGCCGUAGGUUGCCCAGAGACAAU\n",
    "\n",
    "    Name  | Start OBS-1 | End OBS-1 | Start OBS-2 | End OBS-2 | Start Red-1 | End Red-1 | Start Red-2 | End Red-2\n",
    "    \n",
    "    AND-1 |     30      |    45     |     49      |     64    |    16       |    23     |     70      |    77\n",
    " \n",
    "*OR-1 sequence*\n",
    "\n",
    "- GGGCG ACCCU GAUGA GCUUG GUUGA GUAUU UACAG CUCCA UACAU GAGGU GUUCU CCCUA CGCAA GUUCG AUCAG GCGAA ACGGU GAAAG CCGUA GGUUG CCC\n",
    "- GGGCGACCCUGAUGAGCUUGGUUGAGUAUUUACAGCUCCAUACAUGAGGUGUUCUCCCUACGCAAGUUCGAUCAGGCGAAACGGUGAAAGCCGUAGGUUGCCC\n",
    "\n",
    "    Name  | Start OBS-1 | End OBS-1 | Start OBS-2 | End OBS-2 | Start Red-1 | End Red-1 | Start Red-2 | End Red-2\n",
    "    \n",
    "    OR-1  |     27      |     46    |      47     |     66    |      16     |     26    |      67     |     77\n"
   ]
  },
  {
   "cell_type": "markdown",
   "metadata": {},
   "source": [
    "### Plots of riboswitches in default state"
   ]
  },
  {
   "cell_type": "code",
   "execution_count": 35,
   "metadata": {},
   "outputs": [],
   "source": [
    "import subprocess \n",
    "from IPython.display import IFrame    \n",
    "\n",
    "def fold_rna(seq):\n",
    "    seq = seq + \" \\n @\"\n",
    "\n",
    "    p = subprocess.run(['RNAfold'], input=bytes(seq, 'ascii'), stdout=subprocess.PIPE, stderr=subprocess.PIPE)\n",
    "    subprocess.run(['ps2pdf', 'rna.ps'], stdout=subprocess.PIPE, stderr=subprocess.PIPE)\n",
    "    print(p.stdout.decode())"
   ]
  },
  {
   "cell_type": "code",
   "execution_count": 36,
   "metadata": {},
   "outputs": [
    {
     "name": "stdout",
     "output_type": "stream",
     "text": [
      "GGGCGACCCUGAUGAGCUUGAGUUUAGCUCGUCACUGUCCAGGUUCAAUCAGGCGAAACGGUGAAAGCCGUAGGUUGCCC\n",
      "((((((((.(((((((((.......))))))))).((.((.(((...))).))))..(((((....))))).)))))))) (-33.00)\n",
      "\n"
     ]
    },
    {
     "data": {
      "text/html": [
       "\n",
       "        <iframe\n",
       "            width=\"1000\"\n",
       "            height=\"650\"\n",
       "            src=\"rna.pdf\"\n",
       "            frameborder=\"0\"\n",
       "            allowfullscreen\n",
       "        ></iframe>\n",
       "        "
      ],
      "text/plain": [
       "<IPython.lib.display.IFrame at 0x7f3af85e5fd0>"
      ]
     },
     "execution_count": 36,
     "metadata": {},
     "output_type": "execute_result"
    }
   ],
   "source": [
    "# YES-1\n",
    "fold_rna(\"GGGCGACCCUGAUGAGCUUGAGUUUAGCUCGUCACUGUCCAGGUUCAAUCAGGCGAAACGGUGAAAGCCGUAGGUUGCCC\")\n",
    "IFrame(\"rna.pdf\", width=1000, height=650)"
   ]
  },
  {
   "cell_type": "markdown",
   "metadata": {},
   "source": [
    "Are they the same? Are they different? Are there any stem-loop structures that don’t match up? \n",
    "- The fold produced from my run has an extra stem loop starting approximately at the first cleavage site. Other than this one major difference they are pretty similar.\n",
    "\n",
    "What might explain the differences? \n",
    "- The paper uses the equilibrium partition function described by McCaskill, which likely leads to a different cost function for the RNA folding than the default Minimum Free Energy model that RNAfold uses by default."
   ]
  },
  {
   "cell_type": "code",
   "execution_count": 40,
   "metadata": {},
   "outputs": [
    {
     "name": "stdout",
     "output_type": "stream",
     "text": [
      "GGCAGGAUCAUACAGCUGAUGAGUCCCAAAUAGGACGAAACGCGACACACACCACUAAACCGUGCAGUGUUUUGCGUCCUGUAUUCCACUGC\n",
      ".((((....((((((.......((((......))))...((((((.((((..(((......)))..)))).)))))).))))))....)))) (-28.10)\n",
      "\n"
     ]
    },
    {
     "data": {
      "text/html": [
       "\n",
       "        <iframe\n",
       "            width=\"1000\"\n",
       "            height=\"650\"\n",
       "            src=\"rna.pdf\"\n",
       "            frameborder=\"0\"\n",
       "            allowfullscreen\n",
       "        ></iframe>\n",
       "        "
      ],
      "text/plain": [
       "<IPython.lib.display.IFrame at 0x7f3af8602400>"
      ]
     },
     "execution_count": 40,
     "metadata": {},
     "output_type": "execute_result"
    }
   ],
   "source": [
    "# NOT-1\n",
    "fold_rna(\"GGCAGGAUCAUACAGCUGAUGAGUCCCAAAUAGGACGAAACGCGACACACACCACUAAACCGUGCAGUGUUUUGCGUCCUGUAUUCCACUGC\")\n",
    "IFrame(\"rna.pdf\", width=1000, height=650)"
   ]
  },
  {
   "cell_type": "markdown",
   "metadata": {},
   "source": [
    "Are they the same? Are they different? Are there any stem-loop structures that don’t match up? \n",
    "- The fold produced from my run is very similar in this case to the one presented in the paper. The cleavage sites line up perfectly as in the paper.\n",
    "\n",
    "What might explain the differences? \n",
    "- Some angular differences, again likely due to use of the equilibrium partition function."
   ]
  },
  {
   "cell_type": "code",
   "execution_count": 42,
   "metadata": {},
   "outputs": [
    {
     "name": "stdout",
     "output_type": "stream",
     "text": [
      "GGGCGACCCUGAUGAGCUUGGUUUAGUAUUUACAGCUCCAUACAUGAGGUGUUAUCCCUAUGCAAGUUCGAUCAGGCGAAACGGUGAAAGCCGUAGGUUGCCCAGAGACAAU\n",
      "((((((((((((((((((((...(((.....(((.(((.......))).))).....)))..))))))).))))).....(((((....))))).))))))))......... (-42.10)\n",
      "\n"
     ]
    },
    {
     "data": {
      "text/html": [
       "\n",
       "        <iframe\n",
       "            width=\"1000\"\n",
       "            height=\"650\"\n",
       "            src=\"rna.pdf\"\n",
       "            frameborder=\"0\"\n",
       "            allowfullscreen\n",
       "        ></iframe>\n",
       "        "
      ],
      "text/plain": [
       "<IPython.lib.display.IFrame at 0x7f3af85eac50>"
      ]
     },
     "execution_count": 42,
     "metadata": {},
     "output_type": "execute_result"
    }
   ],
   "source": [
    "# AND-1\n",
    "fold_rna(\"GGGCGACCCUGAUGAGCUUGGUUUAGUAUUUACAGCUCCAUACAUGAGGUGUUAUCCCUAUGCAAGUUCGAUCAGGCGAAACGGUGAAAGCCGUAGGUUGCCCAGAGACAAU\")\n",
    "IFrame(\"rna.pdf\", width=1000, height=650)"
   ]
  },
  {
   "cell_type": "markdown",
   "metadata": {},
   "source": [
    "Are they the same? Are they different? Are there any stem-loop structures that don’t match up? \n",
    "- The fold produced from my run is very similar in this case to the one presented in the paper. The cleavage sites do not line up, as in the paper.\n",
    "\n",
    "What might explain the differences? \n",
    "- Some angular differences, again likely due to use of the equilibrium partition function."
   ]
  },
  {
   "cell_type": "code",
   "execution_count": 43,
   "metadata": {},
   "outputs": [
    {
     "name": "stdout",
     "output_type": "stream",
     "text": [
      "GGGCGACCCUGAUGAGCUUGGUUGAGUAUUUACAGCUCCAUACAUGAGGUGUUCUCCCUACGCAAGUUCGAUCAGGCGAAACGGUGAAAGCCGUAGGUUGCCC\n",
      "((((((((((((((((((((((.(((.....(((.(((.......))).))).)))...)).))))))).))))).....(((((....))))).)))))))) (-40.00)\n",
      "\n"
     ]
    },
    {
     "data": {
      "text/html": [
       "\n",
       "        <iframe\n",
       "            width=\"1000\"\n",
       "            height=\"650\"\n",
       "            src=\"rna.pdf\"\n",
       "            frameborder=\"0\"\n",
       "            allowfullscreen\n",
       "        ></iframe>\n",
       "        "
      ],
      "text/plain": [
       "<IPython.lib.display.IFrame at 0x7f3af85ea4a8>"
      ]
     },
     "execution_count": 43,
     "metadata": {},
     "output_type": "execute_result"
    }
   ],
   "source": [
    "# OR-1\n",
    "fold_rna(\"GGGCGACCCUGAUGAGCUUGGUUGAGUAUUUACAGCUCCAUACAUGAGGUGUUCUCCCUACGCAAGUUCGAUCAGGCGAAACGGUGAAAGCCGUAGGUUGCCC\")\n",
    "IFrame(\"rna.pdf\", width=1000, height=650)"
   ]
  },
  {
   "cell_type": "markdown",
   "metadata": {},
   "source": [
    "Are they the same? Are they different? Are there any stem-loop structures that don’t match up? \n",
    "- The fold produced from my run is very similar in this case to the one presented in the paper. The cleavage sites do not line up, as in the paper.\n",
    "\n",
    "What might explain the differences? \n",
    "- Some angular differences, again likely due to use of the equilibrium partition function."
   ]
  },
  {
   "cell_type": "markdown",
   "metadata": {},
   "source": [
    "### Plots of YES-1 and NOT-1 riboswitches with OBS bound"
   ]
  },
  {
   "cell_type": "code",
   "execution_count": 50,
   "metadata": {},
   "outputs": [],
   "source": [
    "def fold_rna_with_constraints(seq_file):\n",
    "    p = subprocess.run(['RNAfold', '-C', seq_file], stdout=subprocess.PIPE, stderr=subprocess.PIPE)\n",
    "    subprocess.run(['ps2pdf', 'rna.ps'], stdout=subprocess.PIPE, stderr=subprocess.PIPE)\n",
    "    print(p.stdout.decode())"
   ]
  },
  {
   "cell_type": "code",
   "execution_count": 52,
   "metadata": {
    "scrolled": true
   },
   "outputs": [
    {
     "name": "stdout",
     "output_type": "stream",
     "text": [
      "GGGCGACCCUGAUGAGCUUGAGUUUAGCUCGUCACUGUCCAGGUUCAAUCAGGCGAAACGGUGAAAGCCGUAGGUUGCCC\n",
      "((((((((.......((((((...........................))))))...(((((....))))).)))))))) (-24.50)\n",
      "\n"
     ]
    },
    {
     "data": {
      "text/html": [
       "\n",
       "        <iframe\n",
       "            width=\"1000\"\n",
       "            height=\"650\"\n",
       "            src=\"rna.pdf\"\n",
       "            frameborder=\"0\"\n",
       "            allowfullscreen\n",
       "        ></iframe>\n",
       "        "
      ],
      "text/plain": [
       "<IPython.lib.display.IFrame at 0x7f3af85daf60>"
      ]
     },
     "execution_count": 52,
     "metadata": {},
     "output_type": "execute_result"
    }
   ],
   "source": [
    "# YES-1 constrained\n",
    "fold_rna_with_constraints(\"./YES-1_con\")\n",
    "IFrame(\"rna.pdf\", width=1000, height=650)"
   ]
  },
  {
   "cell_type": "markdown",
   "metadata": {},
   "source": [
    "With the constraints added, the cleavage sites now line up perfectly, demonstrating that the YES gate works. The structure is almost identical to the one in the paper."
   ]
  },
  {
   "cell_type": "code",
   "execution_count": 56,
   "metadata": {},
   "outputs": [
    {
     "name": "stdout",
     "output_type": "stream",
     "text": [
      "GGCAGGAUCAUACAGCUGAUGAGUCCCAAAUAGGACGAAACGCGACACACACCACUAAACCGUGCAGUGUUUUGCGUCCUGUAUUCCACUGC\n",
      ".((((....((((((..((((.((((......))))(((((((.......................))))))).))))))))))....)))) (-20.80)\n",
      "\n"
     ]
    },
    {
     "data": {
      "text/html": [
       "\n",
       "        <iframe\n",
       "            width=\"1000\"\n",
       "            height=\"650\"\n",
       "            src=\"rna.pdf\"\n",
       "            frameborder=\"0\"\n",
       "            allowfullscreen\n",
       "        ></iframe>\n",
       "        "
      ],
      "text/plain": [
       "<IPython.lib.display.IFrame at 0x7f3af85e5f28>"
      ]
     },
     "execution_count": 56,
     "metadata": {},
     "output_type": "execute_result"
    }
   ],
   "source": [
    "# NOT-1 constrained\n",
    "fold_rna_with_constraints(\"./NOT-1_con\")\n",
    "IFrame(\"rna.pdf\", width=1000, height=650)"
   ]
  },
  {
   "cell_type": "markdown",
   "metadata": {},
   "source": [
    "With the constraints added, the cleavage sites now do not line up, demonstrating that the NOT gate works. The structure is almost identical to the one in the paper."
   ]
  },
  {
   "cell_type": "markdown",
   "metadata": {},
   "source": [
    "### AND-1 Riboswitch Constraints"
   ]
  },
  {
   "cell_type": "code",
   "execution_count": 57,
   "metadata": {},
   "outputs": [
    {
     "name": "stdout",
     "output_type": "stream",
     "text": [
      "GGGCGACCCUGAUGAGCUUGGUUUAGUAUUUACAGCUCCAUACAUGAGGUGUUAUCCCUAUGCAAGUUCGAUCAGGCGAAACGGUGAAAGCCGUAGGUUGCCCAGAGACAAU\n",
      "((((((((((((((((((..............................................))))).))))).....(((((....))))).))))))))......... (-27.64)\n",
      "\n"
     ]
    },
    {
     "data": {
      "text/html": [
       "\n",
       "        <iframe\n",
       "            width=\"1000\"\n",
       "            height=\"650\"\n",
       "            src=\"rna.pdf\"\n",
       "            frameborder=\"0\"\n",
       "            allowfullscreen\n",
       "        ></iframe>\n",
       "        "
      ],
      "text/plain": [
       "<IPython.lib.display.IFrame at 0x7f3af85e5828>"
      ]
     },
     "execution_count": 57,
     "metadata": {},
     "output_type": "execute_result"
    }
   ],
   "source": [
    "# AND-1 T/T\n",
    "fold_rna_with_constraints(\"./AND-1TT_con\")\n",
    "IFrame(\"rna.pdf\", width=1000, height=650)"
   ]
  },
  {
   "cell_type": "code",
   "execution_count": 58,
   "metadata": {},
   "outputs": [
    {
     "name": "stdout",
     "output_type": "stream",
     "text": [
      "GGGCGACCCUGAUGAGCUUGGUUUAGUAUUUACAGCUCCAUACAUGAGGUGUUAUCCCUAUGCAAGUUCGAUCAGGCGAAACGGUGAAAGCCGUAGGUUGCCCAGAGACAAU\n",
      "((((((((((((((((((..............................................))))).))))).....(((((....))))).))))))))......... (-27.64)\n",
      "\n"
     ]
    },
    {
     "data": {
      "text/html": [
       "\n",
       "        <iframe\n",
       "            width=\"1000\"\n",
       "            height=\"650\"\n",
       "            src=\"rna.pdf\"\n",
       "            frameborder=\"0\"\n",
       "            allowfullscreen\n",
       "        ></iframe>\n",
       "        "
      ],
      "text/plain": [
       "<IPython.lib.display.IFrame at 0x7f3af85e56a0>"
      ]
     },
     "execution_count": 58,
     "metadata": {},
     "output_type": "execute_result"
    }
   ],
   "source": [
    "# AND-1 T/F\n",
    "fold_rna_with_constraints(\"./AND-1TF_con\")\n",
    "IFrame(\"rna.pdf\", width=1000, height=650)"
   ]
  },
  {
   "cell_type": "code",
   "execution_count": 59,
   "metadata": {},
   "outputs": [
    {
     "name": "stdout",
     "output_type": "stream",
     "text": [
      "GGGCGACCCUGAUGAGCUUGGUUUAGUAUUUACAGCUCCAUACAUGAGGUGUUAUCCCUAUGCAAGUUCGAUCAGGCGAAACGGUGAAAGCCGUAGGUUGCCCAGAGACAAU\n",
      "(((((((((((((((((((((...(((.......))))))........................))))).))))).....(((((....))))).))))))))......... (-29.60)\n",
      "\n"
     ]
    },
    {
     "data": {
      "text/html": [
       "\n",
       "        <iframe\n",
       "            width=\"1000\"\n",
       "            height=\"650\"\n",
       "            src=\"rna.pdf\"\n",
       "            frameborder=\"0\"\n",
       "            allowfullscreen\n",
       "        ></iframe>\n",
       "        "
      ],
      "text/plain": [
       "<IPython.lib.display.IFrame at 0x7f3af8602208>"
      ]
     },
     "execution_count": 59,
     "metadata": {},
     "output_type": "execute_result"
    }
   ],
   "source": [
    "# AND-1 F/T\n",
    "fold_rna_with_constraints(\"./AND-1FT_con\")\n",
    "IFrame(\"rna.pdf\", width=1000, height=650)"
   ]
  },
  {
   "cell_type": "markdown",
   "metadata": {},
   "source": [
    "AND-1 Truth Table\n",
    "\n",
    "T/T => T\n",
    "\n",
    "T/F => F\n",
    "\n",
    "F/T => F\n",
    "\n",
    "F/F => F\n",
    "\n",
    "The cleavage sites only line up when both OBS are bound to the AND-1 riboswitch, demonstrating that it does indeed work as an AND gate."
   ]
  },
  {
   "cell_type": "markdown",
   "metadata": {},
   "source": [
    "### OR-1 Riboswitch Constraints"
   ]
  },
  {
   "cell_type": "code",
   "execution_count": 61,
   "metadata": {},
   "outputs": [
    {
     "name": "stdout",
     "output_type": "stream",
     "text": [
      "GGGCGACCCUGAUGAGCUUGGUUGAGUAUUUACAGCUCCAUACAUGAGGUGUUCUCCCUACGCAAGUUCGAUCAGGCGAAACGGUGAAAGCCGUAGGUUGCCC\n",
      "((((((((.......(((((((((((........................................)))))))))))...(((((....))))).)))))))) (-29.09)\n",
      "\n"
     ]
    },
    {
     "data": {
      "text/html": [
       "\n",
       "        <iframe\n",
       "            width=\"1000\"\n",
       "            height=\"650\"\n",
       "            src=\"rna.pdf\"\n",
       "            frameborder=\"0\"\n",
       "            allowfullscreen\n",
       "        ></iframe>\n",
       "        "
      ],
      "text/plain": [
       "<IPython.lib.display.IFrame at 0x7f3af8602b70>"
      ]
     },
     "execution_count": 61,
     "metadata": {},
     "output_type": "execute_result"
    }
   ],
   "source": [
    "# OR-1 T/T\n",
    "fold_rna_with_constraints(\"./OR-1TT_con\")\n",
    "IFrame(\"rna.pdf\", width=1000, height=650)"
   ]
  },
  {
   "cell_type": "code",
   "execution_count": 62,
   "metadata": {},
   "outputs": [
    {
     "name": "stdout",
     "output_type": "stream",
     "text": [
      "GGGCGACCCUGAUGAGCUUGGUUGAGUAUUUACAGCUCCAUACAUGAGGUGUUCUCCCUACGCAAGUUCGAUCAGGCGAAACGGUGAAAGCCGUAGGUUGCCC\n",
      "((((((((((((((((((((((.(((...........................)))...)).))))))).))))).....(((((....))))).)))))))) (-34.20)\n",
      "\n"
     ]
    },
    {
     "data": {
      "text/html": [
       "\n",
       "        <iframe\n",
       "            width=\"1000\"\n",
       "            height=\"650\"\n",
       "            src=\"rna.pdf\"\n",
       "            frameborder=\"0\"\n",
       "            allowfullscreen\n",
       "        ></iframe>\n",
       "        "
      ],
      "text/plain": [
       "<IPython.lib.display.IFrame at 0x7f3af8602e10>"
      ]
     },
     "execution_count": 62,
     "metadata": {},
     "output_type": "execute_result"
    }
   ],
   "source": [
    "# OR-1 T/F\n",
    "fold_rna_with_constraints(\"./OR-1TF_con\")\n",
    "IFrame(\"rna.pdf\", width=1000, height=650)"
   ]
  },
  {
   "cell_type": "code",
   "execution_count": 63,
   "metadata": {},
   "outputs": [
    {
     "name": "stdout",
     "output_type": "stream",
     "text": [
      "GGGCGACCCUGAUGAGCUUGGUUGAGUAUUUACAGCUCCAUACAUGAGGUGUUCUCCCUACGCAAGUUCGAUCAGGCGAAACGGUGAAAGCCGUAGGUUGCCC\n",
      "((((((((.......(((((((((((........................................)))))))))))...(((((....))))).)))))))) (-29.09)\n",
      "\n"
     ]
    },
    {
     "data": {
      "text/html": [
       "\n",
       "        <iframe\n",
       "            width=\"1000\"\n",
       "            height=\"650\"\n",
       "            src=\"rna.pdf\"\n",
       "            frameborder=\"0\"\n",
       "            allowfullscreen\n",
       "        ></iframe>\n",
       "        "
      ],
      "text/plain": [
       "<IPython.lib.display.IFrame at 0x7f3af8602f28>"
      ]
     },
     "execution_count": 63,
     "metadata": {},
     "output_type": "execute_result"
    }
   ],
   "source": [
    "# OR-1 F/T\n",
    "fold_rna_with_constraints(\"./OR-1FT_con\")\n",
    "IFrame(\"rna.pdf\", width=1000, height=650)"
   ]
  },
  {
   "cell_type": "markdown",
   "metadata": {},
   "source": [
    "OR-1 Truth Table\n",
    "\n",
    "T/T => T\n",
    "\n",
    "T/F => T\n",
    "\n",
    "F/T => T\n",
    "\n",
    "F/F => F\n",
    "\n",
    "The cleavage sites line up when either or both OBS are bound to the OR-1 riboswitch, demonstrating that it does indeed work as an OR gate."
   ]
  }
 ],
 "metadata": {
  "kernelspec": {
   "display_name": "Python 3",
   "language": "python",
   "name": "python3"
  },
  "language_info": {
   "codemirror_mode": {
    "name": "ipython",
    "version": 3
   },
   "file_extension": ".py",
   "mimetype": "text/x-python",
   "name": "python",
   "nbconvert_exporter": "python",
   "pygments_lexer": "ipython3",
   "version": "3.7.3"
  }
 },
 "nbformat": 4,
 "nbformat_minor": 2
}
