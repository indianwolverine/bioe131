{
 "cells": [
  {
   "cell_type": "markdown",
   "metadata": {},
   "source": [
    "Ran the following command to assemble the genome. Failed with an out of heap memory (since malloc allocates memory from the heap) error pasted below."
   ]
  },
  {
   "cell_type": "code",
   "execution_count": null,
   "metadata": {},
   "outputs": [],
   "source": [
    "!spades.py -o assembly/ -1 /data/Lab8_data/illumina_reads_R1.fastq -2 /data/Lab8_data/illumina_reads_R2.fastq --pacbio /data/Lab8_data/pacbio_reads.fastq -t 1"
   ]
  },
  {
   "cell_type": "markdown",
   "metadata": {},
   "source": [
    "```\n",
    "<jemalloc>: Error in malloc(): out of memory. Requested: 2087553752, active: 6241124352\n",
    "\n",
    "\n",
    "== Error ==  system call for: \"['/bigdata/home/softwares/SPAdes-3.13.1-Linux/bin/spades-hammer', '/bigdata/home/5440563/bioe131/lab8/assembly/corrected/confi\n",
    "gs/config.info']\" finished abnormally, err code: -6\n",
    "\n",
    "In case you have troubles running SPAdes, you can write to spades.support@cab.spbu.ru\n",
    "or report an issue on our GitHub repository github.com/ablab/spades\n",
    "Please provide us with params.txt and spades.log files from the output directory.\n",
    "```"
   ]
  },
  {
   "cell_type": "markdown",
   "metadata": {},
   "source": [
    "### Assembly Stats using `assembly-stats`"
   ]
  },
  {
   "cell_type": "markdown",
   "metadata": {},
   "source": [
    "`assembly-stats /data/Lab9_data/contigs.fasta`\n",
    "- Total length: 6680581\n",
    "- Number: 180\n",
    "- N50: 234690\n",
    "\n",
    "\n",
    "`assembly-stats /data/Lab9_data/scaffolds.fasta`\n",
    "- Total length: 6680345 \n",
    "- Number: 176\n",
    "- N50: 234690\n",
    "\n",
    "\n",
    "Why is N50 is useful statistic to calculate? Why not just list the mean or median contig length? \n",
    "- Since contig lengths vary so much, with some very large contigs and many very small ones, taking the mean or median of such a dataset would not accurately represent what N50 does represent - i.e. the length of the contig which is at about 50% of the total contig length. Any contigs greater in length including the N50 contig then comprise ~50% of the base pairs in the experiment, a useful measure for how well the alignment went, whereas mean and median, heavily skewed due to the variation in contig lenghts, don't tell us much about how good the alignment was, especially is researchers decide to exclude some smaller, less useful contigs to bump up their mean and median numbers. N50 is more sensitive to such changes in data, and is a more useful statistic in this aspect.\n",
    "\n",
    "In your assembly, are scaffolds longer than contigs, or are scaffolds approximately equal to contigs?\n",
    "- If we are looking at average length, then scaffolds (37956.51) are slightly longer than contigs (37114.34). However, the N50 of both scaffolds and contigs is the same, more reliably indicating that the datasets have sequences of approximately the same length."
   ]
  },
  {
   "cell_type": "markdown",
   "metadata": {},
   "source": [
    "Ran `./rna_hmm3.py -i /data/Lab9_data/contigs.fasta -L /data/Lab9_data/HMM3/ -o ../assembly.gff`\n",
    "then deleted all non-16S_rRNA genes from the resulting `assembly.gff`"
   ]
  },
  {
   "cell_type": "markdown",
   "metadata": {},
   "source": [
    "Then ran `bedtools getfasta -fi /data//Lab9_data/contigs.fasta -bed assembly.gff > 16S_rRNA.fasta` to find sequences of the 16S_rRNA genes.\n",
    "\n",
    "Uploaded the resulting file `16S_rRNA.fasta` to https://rdp.cme.msu.edu/seqmatch/ and found out from the results that the genome belongs to *Pseudomonas* genus.\n",
    "\n",
    "Then uploaded the `contigs.fasta` file to both BASys and RAST for annotation."
   ]
  },
  {
   "cell_type": "markdown",
   "metadata": {},
   "source": [
    "### Research on Pseudomonas\n",
    "\n",
    "I first read the *Pseudomonas* [article](https://en.wikipedia.org/wiki/Pseudomonas) on Wikipedia to gain a high level view of the genus. From this article I found out some things to help me narrow my search on PubMed, particularly that bacterium in this genus commonly have the following features: \n",
    "- gram negative\n",
    "- rod shaped\n",
    "- flagella\n",
    "- aerobic\n",
    "- cell walls\n",
    "- antibiotic resistance\n",
    "\n",
    "I also learned from Wikipedia that *Pseudomonas* species are often used as biocontrol agents i.e. they are applied to soil around crops to kill off the other pathogens and help the crop growth. Really cool! I decided then to read up on published research on PubMed related to both the antibiotic resistance and biocontrol properties of *Pseudomonas* to see if I could find out what genome level features allow it to both outcompete other pathogens and thrive as a human pathogen.\n",
    "\n",
    "From reading abstracts on PubMed, I learned that *Pseudomonas* species can often mutate to evolve resistance to drugs such as penicillin and ciprofloxacin. To combat multi-drug resistant *Pseudomonas* strains, one [abstract](https://www.ncbi.nlm.nih.gov/pubmed/31608743) specifically mentioned using the antibiotic fosfomycin in the treatment regimen. Interestingly, when looking through genome annotations related to **Virulence, Disease and Defense** on the RAST Seed Viewer, I found that the genome of the *Pseudomonas* strain specifically had a gene that encoded a protein called FosA, which conferred fosfomycin resistance to the bacterium. This was interesting to see, as the abstract I read was from a very recently published paper, and recommended the use of fosfomycin specifically for multi-drug resistant strains of *Pseudomonas*, while the strain I just annotated already had a gene encoding a protein conferring resistance to this very antibiotic. Both cool and scary to see how fast bacteria evolve resistance to antibiotics.\n",
    "\n",
    "Furthermore, the annotation includes genes which confer resistance to the following: \n",
    "- colicin E2\n",
    "- cobalt-zinc-cadmium\n",
    "- streptothricin\n",
    "- fluoroquinolines\n",
    "- copper\n",
    "- beta-lactamase\n",
    "- efflux pumps (used by *Pseudomonas* to pump out antibiotics before they can act)\n",
    "- chromium\n",
    "\n",
    "It seems that this strain of *Pseudomonas* has evolved resistance to a wide variety of antibiotics. Another immediate observation follows directly from this list - this strain is resistant to a large number of metallic ions! This likely means that this strain has evolved to survive in environments with heavy metal pollution, maybe industrial waste areas? I decided to research this further on PubMed to see what the literature had to say about metal ion resistance in *Pseudomonas*. One [abstract](https://www.ncbi.nlm.nih.gov/pubmed/31158594) I read really caught my eye - it turns out that heavy metals such as copper ions may in fact promote, through horizontal gene transfer, the transfer of antibiotic resistance genes across genera of bacteria! This means, that if there are for example antibiotic resistant *E. Coli* living in a heavy metal rich environment, *Pseudomonas* with previously no antibiotic resistance but with heavy metal resistance genes could acquire the antibiotic resistance genes from *E. Coli* through horizontal gene transfer! It seems that this metal ion resistance that this strain of *Pseudomonas* has might have led it to acquire antibiotic resistance as well. Very cool!"
   ]
  },
  {
   "cell_type": "code",
   "execution_count": null,
   "metadata": {},
   "outputs": [],
   "source": []
  }
 ],
 "metadata": {
  "kernelspec": {
   "display_name": "Python 3",
   "language": "python",
   "name": "python3"
  },
  "language_info": {
   "codemirror_mode": {
    "name": "ipython",
    "version": 3
   },
   "file_extension": ".py",
   "mimetype": "text/x-python",
   "name": "python",
   "nbconvert_exporter": "python",
   "pygments_lexer": "ipython3",
   "version": "3.7.3"
  }
 },
 "nbformat": 4,
 "nbformat_minor": 2
}
